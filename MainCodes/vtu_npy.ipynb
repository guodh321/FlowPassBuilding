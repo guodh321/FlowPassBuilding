{
 "cells": [
  {
   "cell_type": "code",
   "execution_count": 2,
   "metadata": {},
   "outputs": [],
   "source": [
    "import numpy as np\n",
    "import matplotlib.pyplot as plt\n",
    "\n",
    "import os\n",
    "os.environ[\"CUDA_VISIBLE_DEVICES\"] = f\"{4}\""
   ]
  },
  {
   "cell_type": "code",
   "execution_count": 3,
   "metadata": {},
   "outputs": [],
   "source": [
    "import sys\n",
    "sys.path.append(\"..\")"
   ]
  },
  {
   "cell_type": "code",
   "execution_count": null,
   "metadata": {},
   "outputs": [],
   "source": [
    "# Load vtu data\n",
    "#--------------------------------#\n",
    "#-- Choose variables           --#\n",
    "#--------------------------------#\n",
    "for i in range(1, 9):\n",
    "    # The path where the vtu files are located\n",
    "    path = root_path + 'Cotrace_fixed_720_cases/case{}/'.format(i)\n",
    "    # The prefix of the file name of the vtu file\n",
    "    name_simu = 'Cotrace_fixed'\n",
    "    vtu_start = 1\n",
    "    vtu_end   = 721  # 721\n",
    "    vtu_step  = 1\n",
    "    fields_list = ['Tracer ', 'Velocity', 'Temperature', 'Humidity', 'Virus1']\n",
    "\n",
    "    times = 720\n",
    "\n",
    "    print('loading tracer')\n",
    "    tracer = t.loadvtufile(path, name_simu, 'Tracer', vtu_start, vtu_end, vtu_step)\n",
    "    print('loading velocity')\n",
    "    velocity = t.loadvtufile(path, name_simu, 'Velocity', vtu_start, vtu_end, vtu_step)\n",
    "    print('loading temp')\n",
    "    temp = t.loadvtufile(path, name_simu, 'Temperature', vtu_start, vtu_end, vtu_step)\n",
    "    print('loading humid')\n",
    "    humid = t.loadvtufile(path, name_simu, 'Humidity', vtu_start, vtu_end, vtu_step)\n",
    "    print('loading virus')\n",
    "    virus = t.loadvtufile(path, name_simu, 'Virus1', vtu_start, vtu_end, vtu_step)\n",
    "\n",
    "    vx = velocity[:,:,0].reshape(times,-1,1)\n",
    "    vy = velocity[:,:,1].reshape(times,-1,1)\n",
    "    vz = velocity[:,:,2].reshape(times,-1,1)\n",
    "\n",
    "    print(tracer.shape)\n",
    "    print(velocity.shape)\n",
    "    print(temp.shape)\n",
    "    print(humid.shape)\n",
    "    print(virus.shape)\n",
    "    print(vx.shape)\n",
    "\n",
    "\n",
    "    np.save(root_path + 'Cotrace_fixed_720_cases/case{}_npys/case{}_tracer.npy'.format(i, i), tracer)\n",
    "    np.save(root_path + 'Cotrace_fixed_720_cases/case{}_npys/case{}_velocity.npy'.format(i, i), velocity)\n",
    "    np.save(root_path + 'Cotrace_fixed_720_cases/case{}_npys/case{}_temp.npy'.format(i, i), temp)\n",
    "    np.save(root_path + 'Cotrace_fixed_720_cases/case{}_npys/case{}_humid.npy'.format(i, i), humid)\n",
    "    np.save(root_path + 'Cotrace_fixed_720_cases/case{}_npys/case{}_virus.npy'.format(i, i), virus)\n",
    "    np.save(root_path + 'Cotrace_fixed_720_cases/case{}_npys/case{}_vx.npy'.format(i, i), vx)\n",
    "    np.save(root_path + 'Cotrace_fixed_720_cases/case{}_npys/case{}_vy.npy'.format(i, i), vy)\n",
    "    np.save(root_path + 'Cotrace_fixed_720_cases/case{}_npys/case{}_vz.npy'.format(i, i), vz)"
   ]
  }
 ],
 "metadata": {
  "kernelspec": {
   "display_name": "Python 3",
   "language": "python",
   "name": "python3"
  },
  "language_info": {
   "codemirror_mode": {
    "name": "ipython",
    "version": 3
   },
   "file_extension": ".py",
   "mimetype": "text/x-python",
   "name": "python",
   "nbconvert_exporter": "python",
   "pygments_lexer": "ipython3",
   "version": "3.8.13"
  }
 },
 "nbformat": 4,
 "nbformat_minor": 2
}
